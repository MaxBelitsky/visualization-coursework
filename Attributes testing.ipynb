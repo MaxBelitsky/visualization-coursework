{
 "cells": [
  {
   "cell_type": "code",
   "execution_count": 1,
   "metadata": {},
   "outputs": [],
   "source": [
    "import pandas as pd\n",
    "import numpy as np"
   ]
  },
  {
   "cell_type": "code",
   "execution_count": 10,
   "metadata": {},
   "outputs": [],
   "source": [
    "df = pd.read_excel('dataset.xlsx')"
   ]
  },
  {
   "cell_type": "code",
   "execution_count": 49,
   "metadata": {},
   "outputs": [
    {
     "data": {
      "text/html": [
       "<div>\n",
       "<style scoped>\n",
       "    .dataframe tbody tr th:only-of-type {\n",
       "        vertical-align: middle;\n",
       "    }\n",
       "\n",
       "    .dataframe tbody tr th {\n",
       "        vertical-align: top;\n",
       "    }\n",
       "\n",
       "    .dataframe thead th {\n",
       "        text-align: right;\n",
       "    }\n",
       "</style>\n",
       "<table border=\"1\" class=\"dataframe\">\n",
       "  <thead>\n",
       "    <tr style=\"text-align: right;\">\n",
       "      <th></th>\n",
       "      <th>Patient ID</th>\n",
       "      <th>Patient age quantile</th>\n",
       "      <th>SARS-Cov-2 exam result</th>\n",
       "      <th>Patient addmited to regular ward (1=yes, 0=no)</th>\n",
       "      <th>Patient addmited to semi-intensive unit (1=yes, 0=no)</th>\n",
       "      <th>Patient addmited to intensive care unit (1=yes, 0=no)</th>\n",
       "      <th>Hematocrit</th>\n",
       "      <th>Hemoglobin</th>\n",
       "      <th>Platelets</th>\n",
       "      <th>Mean platelet volume</th>\n",
       "      <th>...</th>\n",
       "      <th>Hb saturation (arterial blood gases)</th>\n",
       "      <th>pCO2 (arterial blood gas analysis)</th>\n",
       "      <th>Base excess (arterial blood gas analysis)</th>\n",
       "      <th>pH (arterial blood gas analysis)</th>\n",
       "      <th>Total CO2 (arterial blood gas analysis)</th>\n",
       "      <th>HCO3 (arterial blood gas analysis)</th>\n",
       "      <th>pO2 (arterial blood gas analysis)</th>\n",
       "      <th>Arteiral Fio2</th>\n",
       "      <th>Phosphor</th>\n",
       "      <th>ctO2 (arterial blood gas analysis)</th>\n",
       "    </tr>\n",
       "  </thead>\n",
       "  <tbody>\n",
       "    <tr>\n",
       "      <th>67</th>\n",
       "      <td>78511c183ae18bc</td>\n",
       "      <td>7</td>\n",
       "      <td>positive</td>\n",
       "      <td>0</td>\n",
       "      <td>0</td>\n",
       "      <td>0</td>\n",
       "      <td>NaN</td>\n",
       "      <td>NaN</td>\n",
       "      <td>NaN</td>\n",
       "      <td>NaN</td>\n",
       "      <td>...</td>\n",
       "      <td>NaN</td>\n",
       "      <td>NaN</td>\n",
       "      <td>NaN</td>\n",
       "      <td>NaN</td>\n",
       "      <td>NaN</td>\n",
       "      <td>NaN</td>\n",
       "      <td>NaN</td>\n",
       "      <td>NaN</td>\n",
       "      <td>NaN</td>\n",
       "      <td>NaN</td>\n",
       "    </tr>\n",
       "    <tr>\n",
       "      <th>284</th>\n",
       "      <td>d7834ed75f2da44</td>\n",
       "      <td>16</td>\n",
       "      <td>positive</td>\n",
       "      <td>1</td>\n",
       "      <td>0</td>\n",
       "      <td>0</td>\n",
       "      <td>NaN</td>\n",
       "      <td>NaN</td>\n",
       "      <td>NaN</td>\n",
       "      <td>NaN</td>\n",
       "      <td>...</td>\n",
       "      <td>NaN</td>\n",
       "      <td>NaN</td>\n",
       "      <td>NaN</td>\n",
       "      <td>NaN</td>\n",
       "      <td>NaN</td>\n",
       "      <td>NaN</td>\n",
       "      <td>NaN</td>\n",
       "      <td>NaN</td>\n",
       "      <td>NaN</td>\n",
       "      <td>NaN</td>\n",
       "    </tr>\n",
       "    <tr>\n",
       "      <th>513</th>\n",
       "      <td>b16b49f7bd3e692</td>\n",
       "      <td>10</td>\n",
       "      <td>positive</td>\n",
       "      <td>0</td>\n",
       "      <td>0</td>\n",
       "      <td>0</td>\n",
       "      <td>NaN</td>\n",
       "      <td>NaN</td>\n",
       "      <td>NaN</td>\n",
       "      <td>NaN</td>\n",
       "      <td>...</td>\n",
       "      <td>NaN</td>\n",
       "      <td>NaN</td>\n",
       "      <td>NaN</td>\n",
       "      <td>NaN</td>\n",
       "      <td>NaN</td>\n",
       "      <td>NaN</td>\n",
       "      <td>NaN</td>\n",
       "      <td>NaN</td>\n",
       "      <td>NaN</td>\n",
       "      <td>NaN</td>\n",
       "    </tr>\n",
       "    <tr>\n",
       "      <th>568</th>\n",
       "      <td>4382f5ea05e60c4</td>\n",
       "      <td>2</td>\n",
       "      <td>positive</td>\n",
       "      <td>0</td>\n",
       "      <td>0</td>\n",
       "      <td>0</td>\n",
       "      <td>0.991838</td>\n",
       "      <td>0.792188</td>\n",
       "      <td>-0.341548</td>\n",
       "      <td>1.469188</td>\n",
       "      <td>...</td>\n",
       "      <td>NaN</td>\n",
       "      <td>NaN</td>\n",
       "      <td>NaN</td>\n",
       "      <td>NaN</td>\n",
       "      <td>NaN</td>\n",
       "      <td>NaN</td>\n",
       "      <td>NaN</td>\n",
       "      <td>NaN</td>\n",
       "      <td>NaN</td>\n",
       "      <td>NaN</td>\n",
       "    </tr>\n",
       "    <tr>\n",
       "      <th>676</th>\n",
       "      <td>d3729cd2658ca64</td>\n",
       "      <td>15</td>\n",
       "      <td>positive</td>\n",
       "      <td>0</td>\n",
       "      <td>0</td>\n",
       "      <td>0</td>\n",
       "      <td>NaN</td>\n",
       "      <td>NaN</td>\n",
       "      <td>NaN</td>\n",
       "      <td>NaN</td>\n",
       "      <td>...</td>\n",
       "      <td>NaN</td>\n",
       "      <td>NaN</td>\n",
       "      <td>NaN</td>\n",
       "      <td>NaN</td>\n",
       "      <td>NaN</td>\n",
       "      <td>NaN</td>\n",
       "      <td>NaN</td>\n",
       "      <td>NaN</td>\n",
       "      <td>NaN</td>\n",
       "      <td>NaN</td>\n",
       "    </tr>\n",
       "    <tr>\n",
       "      <th>...</th>\n",
       "      <td>...</td>\n",
       "      <td>...</td>\n",
       "      <td>...</td>\n",
       "      <td>...</td>\n",
       "      <td>...</td>\n",
       "      <td>...</td>\n",
       "      <td>...</td>\n",
       "      <td>...</td>\n",
       "      <td>...</td>\n",
       "      <td>...</td>\n",
       "      <td>...</td>\n",
       "      <td>...</td>\n",
       "      <td>...</td>\n",
       "      <td>...</td>\n",
       "      <td>...</td>\n",
       "      <td>...</td>\n",
       "      <td>...</td>\n",
       "      <td>...</td>\n",
       "      <td>...</td>\n",
       "      <td>...</td>\n",
       "      <td>...</td>\n",
       "    </tr>\n",
       "    <tr>\n",
       "      <th>5632</th>\n",
       "      <td>5c386388ba3c3f0</td>\n",
       "      <td>16</td>\n",
       "      <td>positive</td>\n",
       "      <td>0</td>\n",
       "      <td>0</td>\n",
       "      <td>0</td>\n",
       "      <td>NaN</td>\n",
       "      <td>NaN</td>\n",
       "      <td>NaN</td>\n",
       "      <td>NaN</td>\n",
       "      <td>...</td>\n",
       "      <td>NaN</td>\n",
       "      <td>NaN</td>\n",
       "      <td>NaN</td>\n",
       "      <td>NaN</td>\n",
       "      <td>NaN</td>\n",
       "      <td>NaN</td>\n",
       "      <td>NaN</td>\n",
       "      <td>NaN</td>\n",
       "      <td>NaN</td>\n",
       "      <td>NaN</td>\n",
       "    </tr>\n",
       "    <tr>\n",
       "      <th>5633</th>\n",
       "      <td>9f8dfe2ae239238</td>\n",
       "      <td>4</td>\n",
       "      <td>positive</td>\n",
       "      <td>0</td>\n",
       "      <td>0</td>\n",
       "      <td>0</td>\n",
       "      <td>NaN</td>\n",
       "      <td>NaN</td>\n",
       "      <td>NaN</td>\n",
       "      <td>NaN</td>\n",
       "      <td>...</td>\n",
       "      <td>NaN</td>\n",
       "      <td>NaN</td>\n",
       "      <td>NaN</td>\n",
       "      <td>NaN</td>\n",
       "      <td>NaN</td>\n",
       "      <td>NaN</td>\n",
       "      <td>NaN</td>\n",
       "      <td>NaN</td>\n",
       "      <td>NaN</td>\n",
       "      <td>NaN</td>\n",
       "    </tr>\n",
       "    <tr>\n",
       "      <th>5634</th>\n",
       "      <td>db77903261ab6d0</td>\n",
       "      <td>15</td>\n",
       "      <td>positive</td>\n",
       "      <td>0</td>\n",
       "      <td>0</td>\n",
       "      <td>0</td>\n",
       "      <td>NaN</td>\n",
       "      <td>NaN</td>\n",
       "      <td>NaN</td>\n",
       "      <td>NaN</td>\n",
       "      <td>...</td>\n",
       "      <td>NaN</td>\n",
       "      <td>NaN</td>\n",
       "      <td>NaN</td>\n",
       "      <td>NaN</td>\n",
       "      <td>NaN</td>\n",
       "      <td>NaN</td>\n",
       "      <td>NaN</td>\n",
       "      <td>NaN</td>\n",
       "      <td>NaN</td>\n",
       "      <td>NaN</td>\n",
       "    </tr>\n",
       "    <tr>\n",
       "      <th>5639</th>\n",
       "      <td>ae66feb9e4dc3a0</td>\n",
       "      <td>3</td>\n",
       "      <td>positive</td>\n",
       "      <td>0</td>\n",
       "      <td>0</td>\n",
       "      <td>0</td>\n",
       "      <td>NaN</td>\n",
       "      <td>NaN</td>\n",
       "      <td>NaN</td>\n",
       "      <td>NaN</td>\n",
       "      <td>...</td>\n",
       "      <td>NaN</td>\n",
       "      <td>NaN</td>\n",
       "      <td>NaN</td>\n",
       "      <td>NaN</td>\n",
       "      <td>NaN</td>\n",
       "      <td>NaN</td>\n",
       "      <td>NaN</td>\n",
       "      <td>NaN</td>\n",
       "      <td>NaN</td>\n",
       "      <td>NaN</td>\n",
       "    </tr>\n",
       "    <tr>\n",
       "      <th>5643</th>\n",
       "      <td>2697fdccbfeb7f7</td>\n",
       "      <td>19</td>\n",
       "      <td>positive</td>\n",
       "      <td>0</td>\n",
       "      <td>0</td>\n",
       "      <td>0</td>\n",
       "      <td>0.694287</td>\n",
       "      <td>0.541564</td>\n",
       "      <td>-0.906829</td>\n",
       "      <td>-0.325903</td>\n",
       "      <td>...</td>\n",
       "      <td>NaN</td>\n",
       "      <td>NaN</td>\n",
       "      <td>NaN</td>\n",
       "      <td>NaN</td>\n",
       "      <td>NaN</td>\n",
       "      <td>NaN</td>\n",
       "      <td>NaN</td>\n",
       "      <td>NaN</td>\n",
       "      <td>NaN</td>\n",
       "      <td>NaN</td>\n",
       "    </tr>\n",
       "  </tbody>\n",
       "</table>\n",
       "<p>558 rows × 111 columns</p>\n",
       "</div>"
      ],
      "text/plain": [
       "           Patient ID  Patient age quantile SARS-Cov-2 exam result  \\\n",
       "67    78511c183ae18bc                     7               positive   \n",
       "284   d7834ed75f2da44                    16               positive   \n",
       "513   b16b49f7bd3e692                    10               positive   \n",
       "568   4382f5ea05e60c4                     2               positive   \n",
       "676   d3729cd2658ca64                    15               positive   \n",
       "...               ...                   ...                    ...   \n",
       "5632  5c386388ba3c3f0                    16               positive   \n",
       "5633  9f8dfe2ae239238                     4               positive   \n",
       "5634  db77903261ab6d0                    15               positive   \n",
       "5639  ae66feb9e4dc3a0                     3               positive   \n",
       "5643  2697fdccbfeb7f7                    19               positive   \n",
       "\n",
       "      Patient addmited to regular ward (1=yes, 0=no)  \\\n",
       "67                                                 0   \n",
       "284                                                1   \n",
       "513                                                0   \n",
       "568                                                0   \n",
       "676                                                0   \n",
       "...                                              ...   \n",
       "5632                                               0   \n",
       "5633                                               0   \n",
       "5634                                               0   \n",
       "5639                                               0   \n",
       "5643                                               0   \n",
       "\n",
       "      Patient addmited to semi-intensive unit (1=yes, 0=no)  \\\n",
       "67                                                    0       \n",
       "284                                                   0       \n",
       "513                                                   0       \n",
       "568                                                   0       \n",
       "676                                                   0       \n",
       "...                                                 ...       \n",
       "5632                                                  0       \n",
       "5633                                                  0       \n",
       "5634                                                  0       \n",
       "5639                                                  0       \n",
       "5643                                                  0       \n",
       "\n",
       "      Patient addmited to intensive care unit (1=yes, 0=no)  Hematocrit  \\\n",
       "67                                                    0             NaN   \n",
       "284                                                   0             NaN   \n",
       "513                                                   0             NaN   \n",
       "568                                                   0        0.991838   \n",
       "676                                                   0             NaN   \n",
       "...                                                 ...             ...   \n",
       "5632                                                  0             NaN   \n",
       "5633                                                  0             NaN   \n",
       "5634                                                  0             NaN   \n",
       "5639                                                  0             NaN   \n",
       "5643                                                  0        0.694287   \n",
       "\n",
       "      Hemoglobin  Platelets  Mean platelet volume   ...  \\\n",
       "67           NaN        NaN                    NaN  ...   \n",
       "284          NaN        NaN                    NaN  ...   \n",
       "513          NaN        NaN                    NaN  ...   \n",
       "568     0.792188  -0.341548               1.469188  ...   \n",
       "676          NaN        NaN                    NaN  ...   \n",
       "...          ...        ...                    ...  ...   \n",
       "5632         NaN        NaN                    NaN  ...   \n",
       "5633         NaN        NaN                    NaN  ...   \n",
       "5634         NaN        NaN                    NaN  ...   \n",
       "5639         NaN        NaN                    NaN  ...   \n",
       "5643    0.541564  -0.906829              -0.325903  ...   \n",
       "\n",
       "      Hb saturation (arterial blood gases)  \\\n",
       "67                                     NaN   \n",
       "284                                    NaN   \n",
       "513                                    NaN   \n",
       "568                                    NaN   \n",
       "676                                    NaN   \n",
       "...                                    ...   \n",
       "5632                                   NaN   \n",
       "5633                                   NaN   \n",
       "5634                                   NaN   \n",
       "5639                                   NaN   \n",
       "5643                                   NaN   \n",
       "\n",
       "      pCO2 (arterial blood gas analysis)  \\\n",
       "67                                   NaN   \n",
       "284                                  NaN   \n",
       "513                                  NaN   \n",
       "568                                  NaN   \n",
       "676                                  NaN   \n",
       "...                                  ...   \n",
       "5632                                 NaN   \n",
       "5633                                 NaN   \n",
       "5634                                 NaN   \n",
       "5639                                 NaN   \n",
       "5643                                 NaN   \n",
       "\n",
       "      Base excess (arterial blood gas analysis)  \\\n",
       "67                                          NaN   \n",
       "284                                         NaN   \n",
       "513                                         NaN   \n",
       "568                                         NaN   \n",
       "676                                         NaN   \n",
       "...                                         ...   \n",
       "5632                                        NaN   \n",
       "5633                                        NaN   \n",
       "5634                                        NaN   \n",
       "5639                                        NaN   \n",
       "5643                                        NaN   \n",
       "\n",
       "      pH (arterial blood gas analysis)  \\\n",
       "67                                 NaN   \n",
       "284                                NaN   \n",
       "513                                NaN   \n",
       "568                                NaN   \n",
       "676                                NaN   \n",
       "...                                ...   \n",
       "5632                               NaN   \n",
       "5633                               NaN   \n",
       "5634                               NaN   \n",
       "5639                               NaN   \n",
       "5643                               NaN   \n",
       "\n",
       "      Total CO2 (arterial blood gas analysis)  \\\n",
       "67                                        NaN   \n",
       "284                                       NaN   \n",
       "513                                       NaN   \n",
       "568                                       NaN   \n",
       "676                                       NaN   \n",
       "...                                       ...   \n",
       "5632                                      NaN   \n",
       "5633                                      NaN   \n",
       "5634                                      NaN   \n",
       "5639                                      NaN   \n",
       "5643                                      NaN   \n",
       "\n",
       "      HCO3 (arterial blood gas analysis)  pO2 (arterial blood gas analysis)  \\\n",
       "67                                   NaN                                NaN   \n",
       "284                                  NaN                                NaN   \n",
       "513                                  NaN                                NaN   \n",
       "568                                  NaN                                NaN   \n",
       "676                                  NaN                                NaN   \n",
       "...                                  ...                                ...   \n",
       "5632                                 NaN                                NaN   \n",
       "5633                                 NaN                                NaN   \n",
       "5634                                 NaN                                NaN   \n",
       "5639                                 NaN                                NaN   \n",
       "5643                                 NaN                                NaN   \n",
       "\n",
       "      Arteiral Fio2  Phosphor  ctO2 (arterial blood gas analysis)  \n",
       "67              NaN       NaN                                 NaN  \n",
       "284             NaN       NaN                                 NaN  \n",
       "513             NaN       NaN                                 NaN  \n",
       "568             NaN       NaN                                 NaN  \n",
       "676             NaN       NaN                                 NaN  \n",
       "...             ...       ...                                 ...  \n",
       "5632            NaN       NaN                                 NaN  \n",
       "5633            NaN       NaN                                 NaN  \n",
       "5634            NaN       NaN                                 NaN  \n",
       "5639            NaN       NaN                                 NaN  \n",
       "5643            NaN       NaN                                 NaN  \n",
       "\n",
       "[558 rows x 111 columns]"
      ]
     },
     "execution_count": 49,
     "metadata": {},
     "output_type": "execute_result"
    }
   ],
   "source": [
    "df[df[\"SARS-Cov-2 exam result\"] == \"positive\"]"
   ]
  },
  {
   "cell_type": "code",
   "execution_count": 9,
   "metadata": {},
   "outputs": [
    {
     "name": "stdout",
     "output_type": "stream",
     "text": [
      "558\n",
      "5086\n"
     ]
    }
   ],
   "source": [
    "# Detected coronavirus cases\n",
    "print(len(df[\"SARS-Cov-2 exam result\"][df[\"SARS-Cov-2 exam result\"] == \"positive\"]))\n",
    "# No coronavirus\n",
    "print(len(df[\"SARS-Cov-2 exam result\"][df[\"SARS-Cov-2 exam result\"] == \"negative\"]))"
   ]
  },
  {
   "cell_type": "code",
   "execution_count": 26,
   "metadata": {},
   "outputs": [
    {
     "data": {
      "text/plain": [
       "1400    positive\n",
       "1705    positive\n",
       "5169    positive\n",
       "Name: SARS-Cov-2 exam result, dtype: object"
      ]
     },
     "execution_count": 26,
     "metadata": {},
     "output_type": "execute_result"
    }
   ],
   "source": [
    "# Coronavirus detected + Influenza B detected\n",
    "df[\"SARS-Cov-2 exam result\"][(df[\"SARS-Cov-2 exam result\"] == \"positive\") & (df[\"Influenza B\"] == \"detected\")]"
   ]
  },
  {
   "cell_type": "code",
   "execution_count": 23,
   "metadata": {},
   "outputs": [
    {
     "data": {
      "text/plain": [
       "79      negative\n",
       "423     negative\n",
       "573     negative\n",
       "583     negative\n",
       "645     negative\n",
       "878     negative\n",
       "1134    negative\n",
       "1326    negative\n",
       "1358    negative\n",
       "3794    negative\n",
       "4096    negative\n",
       "4342    negative\n",
       "4618    negative\n",
       "4682    negative\n",
       "4802    negative\n",
       "4827    negative\n",
       "4880    negative\n",
       "5221    negative\n",
       "Name: SARS-Cov-2 exam result, dtype: object"
      ]
     },
     "execution_count": 23,
     "metadata": {},
     "output_type": "execute_result"
    }
   ],
   "source": [
    "# Coronavirus results of people with positive Influenza A tests\n",
    "df[\"SARS-Cov-2 exam result\"][df[\"Influenza A\"] == \"detected\"]"
   ]
  },
  {
   "cell_type": "code",
   "execution_count": 24,
   "metadata": {},
   "outputs": [
    {
     "data": {
      "text/plain": [
       "30      negative\n",
       "71      negative\n",
       "109     negative\n",
       "115     negative\n",
       "142     negative\n",
       "          ...   \n",
       "4714    negative\n",
       "4933    negative\n",
       "4979    negative\n",
       "5073    negative\n",
       "5169    positive\n",
       "Name: SARS-Cov-2 exam result, Length: 77, dtype: object"
      ]
     },
     "execution_count": 24,
     "metadata": {},
     "output_type": "execute_result"
    }
   ],
   "source": [
    "# Coronavirus results of people with positive Influenza B tests\n",
    "df[\"SARS-Cov-2 exam result\"][df[\"Influenza B\"] == \"detected\"]"
   ]
  },
  {
   "cell_type": "code",
   "execution_count": 28,
   "metadata": {},
   "outputs": [
    {
     "data": {
      "text/plain": [
       "-0.04185978850493064"
      ]
     },
     "execution_count": 28,
     "metadata": {},
     "output_type": "execute_result"
    }
   ],
   "source": [
    "# Hemoglobin mean when coronavirus not detected\n",
    "df[\"Hemoglobin\"][df[\"SARS-Cov-2 exam result\"] == \"negative\"].mean()"
   ]
  },
  {
   "cell_type": "code",
   "execution_count": 29,
   "metadata": {},
   "outputs": [
    {
     "data": {
      "text/plain": [
       "0.26225398032062025"
      ]
     },
     "execution_count": 29,
     "metadata": {},
     "output_type": "execute_result"
    }
   ],
   "source": [
    "# Hemoglobin mean when coronavirus detected\n",
    "df[\"Hemoglobin\"][df[\"SARS-Cov-2 exam result\"] == \"positive\"].mean()"
   ]
  },
  {
   "cell_type": "code",
   "execution_count": 30,
   "metadata": {},
   "outputs": [
    {
     "data": {
      "text/plain": [
       "0.3033725814332804"
      ]
     },
     "execution_count": 30,
     "metadata": {},
     "output_type": "execute_result"
    }
   ],
   "source": [
    "# Red blood cells mean when coronavirus detected\n",
    "df[\"Red blood Cells\"][df[\"SARS-Cov-2 exam result\"] == \"positive\"].mean()"
   ]
  },
  {
   "cell_type": "code",
   "execution_count": 31,
   "metadata": {},
   "outputs": [
    {
     "data": {
      "text/plain": [
       "-0.04851622194112754"
      ]
     },
     "execution_count": 31,
     "metadata": {},
     "output_type": "execute_result"
    }
   ],
   "source": [
    "# Red blood cells mean when coronavirus not detected\n",
    "df[\"Red blood Cells\"][df[\"SARS-Cov-2 exam result\"] == \"negative\"].mean()"
   ]
  },
  {
   "cell_type": "code",
   "execution_count": 36,
   "metadata": {},
   "outputs": [
    {
     "data": {
      "text/plain": [
       "-0.30116831324994564"
      ]
     },
     "execution_count": 36,
     "metadata": {},
     "output_type": "execute_result"
    }
   ],
   "source": [
    "# pO2 when coronavirus not detected\n",
    "df[\"pO2 (arterial blood gas analysis)\"][df[\"SARS-Cov-2 exam result\"] == \"negative\"].mean()"
   ]
  },
  {
   "cell_type": "code",
   "execution_count": 42,
   "metadata": {},
   "outputs": [
    {
     "data": {
      "text/plain": [
       "-0.33620694967416614"
      ]
     },
     "execution_count": 42,
     "metadata": {},
     "output_type": "execute_result"
    }
   ],
   "source": [
    "# pO2 when coronavirus detected\n",
    "df[\"pCO2 (arterial blood gas analysis)\"][df[\"SARS-Cov-2 exam result\"] == \"positive\"].mean()"
   ]
  },
  {
   "cell_type": "code",
   "execution_count": 43,
   "metadata": {},
   "outputs": [
    {
     "data": {
      "text/plain": [
       "-0.25883706491619635"
      ]
     },
     "execution_count": 43,
     "metadata": {},
     "output_type": "execute_result"
    }
   ],
   "source": [
    "# CO2 when coronavirus detected\n",
    "df[\"Total CO2 (arterial blood gas analysis)\"][df[\"SARS-Cov-2 exam result\"] == \"positive\"].mean()"
   ]
  },
  {
   "cell_type": "code",
   "execution_count": 44,
   "metadata": {},
   "outputs": [
    {
     "data": {
      "text/plain": [
       "0.24034868872591433"
      ]
     },
     "execution_count": 44,
     "metadata": {},
     "output_type": "execute_result"
    }
   ],
   "source": [
    "# CO2 when coronavirus not detected\n",
    "df[\"Total CO2 (arterial blood gas analysis)\"][df[\"SARS-Cov-2 exam result\"] == \"negative\"].mean()"
   ]
  },
  {
   "cell_type": "code",
   "execution_count": 40,
   "metadata": {},
   "outputs": [
    {
     "data": {
      "text/plain": [
       "0.06651422559795245"
      ]
     },
     "execution_count": 40,
     "metadata": {},
     "output_type": "execute_result"
    }
   ],
   "source": [
    "# Total Bilirubin when coronavirus not detected\n",
    "df[\"Total Bilirubin\"][df[\"SARS-Cov-2 exam result\"] == \"negative\"].mean()"
   ]
  },
  {
   "cell_type": "code",
   "execution_count": 45,
   "metadata": {},
   "outputs": [
    {
     "data": {
      "text/plain": [
       "-0.23612551353871822"
      ]
     },
     "execution_count": 45,
     "metadata": {},
     "output_type": "execute_result"
    }
   ],
   "source": [
    "# Total Bilirubin when coronavirus detected\n",
    "df[\"Total Bilirubin\"][df[\"SARS-Cov-2 exam result\"] == \"positive\"].mean()"
   ]
  },
  {
   "cell_type": "code",
   "execution_count": null,
   "metadata": {},
   "outputs": [],
   "source": []
  }
 ],
 "metadata": {
  "kernelspec": {
   "display_name": "Python 3",
   "language": "python",
   "name": "python3"
  },
  "language_info": {
   "codemirror_mode": {
    "name": "ipython",
    "version": 3
   },
   "file_extension": ".py",
   "mimetype": "text/x-python",
   "name": "python",
   "nbconvert_exporter": "python",
   "pygments_lexer": "ipython3",
   "version": "3.7.1"
  }
 },
 "nbformat": 4,
 "nbformat_minor": 4
}
